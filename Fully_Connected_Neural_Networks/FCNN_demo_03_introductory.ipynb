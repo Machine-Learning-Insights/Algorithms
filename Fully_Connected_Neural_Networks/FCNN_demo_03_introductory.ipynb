{
  "nbformat": 4,
  "nbformat_minor": 0,
  "metadata": {
    "colab": {
      "name": "FCNN_demo_03_0.ipynb",
      "provenance": [],
      "collapsed_sections": []
    },
    "kernelspec": {
      "name": "python3",
      "display_name": "Python 3"
    },
    "accelerator": "GPU"
  },
  "cells": [
    {
      "cell_type": "code",
      "metadata": {
        "id": "wT9u0rkz4th-",
        "colab_type": "code",
        "colab": {}
      },
      "source": [
        "import os,logging,sys,random\n",
        "import numpy as np\n",
        "import matplotlib.pyplot as plt\n",
        "\n",
        "import tensorflow as tf\n",
        "from tensorflow.keras.layers import Flatten,Dense\n",
        "from tensorflow.keras.optimizers import Adam\n",
        "from tensorflow.keras.utils import to_categorical\n",
        "\n",
        "from sklearn.metrics import confusion_matrix\n",
        "from sklearn.model_selection import train_test_split\n",
        "\n",
        "logging.disable(logging.WARNING)\n",
        "\n",
        "%load_ext autoreload\n",
        "%autoreload 2\n",
        "%matplotlib inline\n",
        "%load_ext tensorboard"
      ],
      "execution_count": null,
      "outputs": []
    },
    {
      "cell_type": "code",
      "metadata": {
        "id": "QPy_1WBJXHwp",
        "colab_type": "code",
        "colab": {}
      },
      "source": [
        " def get_model_seq():\n",
        "  model=tf.keras.Sequential()\n",
        "  model.add(Flatten(input_shape=(28,28)))\n",
        "  model.add(Dense(128, activation=tf.nn.relu))\n",
        "  model.add(Dense(10, activation=tf.nn.softmax))\n",
        "  return model"
      ],
      "execution_count": null,
      "outputs": []
    },
    {
      "cell_type": "code",
      "metadata": {
        "id": "9gBjb6D5TDIU",
        "colab_type": "code",
        "colab": {}
      },
      "source": [
        "def get_model():\n",
        "  input_size=(28,28,1)\n",
        "  inputs = tf.keras.Input(shape=input_size)\n",
        "  x1=Flatten(input_shape=(28,28))(inputs)\n",
        "  x2 = Dense(128, activation=tf.nn.relu)(x1)\n",
        "  outputs = Dense(10, activation=tf.nn.softmax)(x2)\n",
        "  model = tf.keras.Model(inputs=inputs, outputs=outputs)\n",
        "  return model"
      ],
      "execution_count": null,
      "outputs": []
    },
    {
      "cell_type": "code",
      "metadata": {
        "id": "PAa5YG_RS5G9",
        "colab_type": "code",
        "colab": {
          "base_uri": "https://localhost:8080/",
          "height": 34
        },
        "outputId": "088b276f-2789-4334-9aa4-22023f142113"
      },
      "source": [
        "# Load the fashion-mnist pre-shuffled train data and test data\n",
        "(x_train, y_train), (x_test, y_test) = tf.keras.datasets.fashion_mnist.load_data()\n",
        "print(\"x_train shape:\", x_train.shape, \"y_train shape:\", y_train.shape)"
      ],
      "execution_count": null,
      "outputs": [
        {
          "output_type": "stream",
          "text": [
            "x_train shape: (60000, 28, 28) y_train shape: (60000,)\n"
          ],
          "name": "stdout"
        }
      ]
    },
    {
      "cell_type": "code",
      "metadata": {
        "id": "ZOageXQuT9xr",
        "colab_type": "code",
        "colab": {}
      },
      "source": [
        "x_train=np.expand_dims(x_train,axis=-1)\n",
        "x_test=np.expand_dims(x_test,axis=-1)"
      ],
      "execution_count": null,
      "outputs": []
    },
    {
      "cell_type": "code",
      "metadata": {
        "id": "nztPGXap4vc2",
        "colab_type": "code",
        "colab": {}
      },
      "source": [
        "x_train = x_train.astype('float32') / 255.0\n",
        "x_test = x_test.astype('float32') / 255.0"
      ],
      "execution_count": null,
      "outputs": []
    },
    {
      "cell_type": "code",
      "metadata": {
        "id": "M7PQms_RUHol",
        "colab_type": "code",
        "colab": {}
      },
      "source": [
        "train_x,val_x,train_y,val_y=train_test_split(x_train,y_train,test_size=0.3,random_state=5)"
      ],
      "execution_count": null,
      "outputs": []
    },
    {
      "cell_type": "code",
      "metadata": {
        "id": "kdQaEAMkpBSv",
        "colab_type": "code",
        "colab": {
          "base_uri": "https://localhost:8080/",
          "height": 34
        },
        "outputId": "4fd0e7e1-60f6-4e4c-be5e-fa71300dd6b8"
      },
      "source": [
        "val_y[0]"
      ],
      "execution_count": null,
      "outputs": [
        {
          "output_type": "execute_result",
          "data": {
            "text/plain": [
              "2"
            ]
          },
          "metadata": {
            "tags": []
          },
          "execution_count": 18
        }
      ]
    },
    {
      "cell_type": "code",
      "metadata": {
        "id": "8A847d7uUHxo",
        "colab_type": "code",
        "colab": {}
      },
      "source": [
        "train_y_one_hot=to_categorical(train_y)\n",
        "val_y_one_hot=to_categorical(val_y)\n",
        "y_test_one_hot=to_categorical(y_test)"
      ],
      "execution_count": null,
      "outputs": []
    },
    {
      "cell_type": "code",
      "metadata": {
        "id": "WB1nFw0vpMXg",
        "colab_type": "code",
        "colab": {
          "base_uri": "https://localhost:8080/",
          "height": 34
        },
        "outputId": "7e9ced99-49c0-4be5-d3c3-2a5400253c49"
      },
      "source": [
        "val_y_one_hot[0]"
      ],
      "execution_count": null,
      "outputs": [
        {
          "output_type": "execute_result",
          "data": {
            "text/plain": [
              "array([0., 0., 1., 0., 0., 0., 0., 0., 0., 0.], dtype=float32)"
            ]
          },
          "metadata": {
            "tags": []
          },
          "execution_count": 20
        }
      ]
    },
    {
      "cell_type": "code",
      "metadata": {
        "id": "DI_ClPgESeJR",
        "colab_type": "code",
        "colab": {}
      },
      "source": [
        "model = get_model()"
      ],
      "execution_count": null,
      "outputs": []
    },
    {
      "cell_type": "code",
      "metadata": {
        "id": "Nc1SDAkVPxfW",
        "colab_type": "code",
        "colab": {}
      },
      "source": [
        "metrics='accuracy'\n",
        "model.compile(optimizer='sgd', loss='categorical_crossentropy', metrics=metrics)"
      ],
      "execution_count": null,
      "outputs": []
    },
    {
      "cell_type": "code",
      "metadata": {
        "id": "abOdNEsYPxcm",
        "colab_type": "code",
        "colab": {
          "base_uri": "https://localhost:8080/",
          "height": 295
        },
        "outputId": "77e3fe51-6453-4f53-fa94-c9df24a8613a"
      },
      "source": [
        "model.summary()"
      ],
      "execution_count": null,
      "outputs": [
        {
          "output_type": "stream",
          "text": [
            "Model: \"functional_1\"\n",
            "_________________________________________________________________\n",
            "Layer (type)                 Output Shape              Param #   \n",
            "=================================================================\n",
            "input_1 (InputLayer)         [(None, 28, 28, 1)]       0         \n",
            "_________________________________________________________________\n",
            "flatten (Flatten)            (None, 784)               0         \n",
            "_________________________________________________________________\n",
            "dense (Dense)                (None, 128)               100480    \n",
            "_________________________________________________________________\n",
            "dense_1 (Dense)              (None, 10)                1290      \n",
            "=================================================================\n",
            "Total params: 101,770\n",
            "Trainable params: 101,770\n",
            "Non-trainable params: 0\n",
            "_________________________________________________________________\n"
          ],
          "name": "stdout"
        }
      ]
    },
    {
      "cell_type": "code",
      "metadata": {
        "id": "82Bdoymc4vax",
        "colab_type": "code",
        "colab": {
          "base_uri": "https://localhost:8080/",
          "height": 52
        },
        "outputId": "fab8b7d9-7189-4d1f-a6b6-2a3edd706e9f"
      },
      "source": [
        "model.fit(train_x, train_y_one_hot,validation_data=(val_x,val_y_one_hot),epochs=1)"
      ],
      "execution_count": null,
      "outputs": [
        {
          "output_type": "stream",
          "text": [
            "1313/1313 [==============================] - 4s 3ms/step - loss: 0.8085 - accuracy: 0.7355 - val_loss: 0.6056 - val_accuracy: 0.8014\n"
          ],
          "name": "stdout"
        },
        {
          "output_type": "execute_result",
          "data": {
            "text/plain": [
              "<tensorflow.python.keras.callbacks.History at 0x7f5730334b70>"
            ]
          },
          "metadata": {
            "tags": []
          },
          "execution_count": 21
        }
      ]
    },
    {
      "cell_type": "code",
      "metadata": {
        "id": "ZE6i-f6ITsLp",
        "colab_type": "code",
        "colab": {}
      },
      "source": [
        "model.save('model.h5')"
      ],
      "execution_count": null,
      "outputs": []
    },
    {
      "cell_type": "code",
      "metadata": {
        "id": "z9zWwtKC49k5",
        "colab_type": "code",
        "colab": {
          "base_uri": "https://localhost:8080/",
          "height": 34
        },
        "outputId": "6e7c816d-07ee-45eb-e6d5-888de7349163"
      },
      "source": [
        "test_loss, test_acc = model.evaluate(x_test,y_test_one_hot)"
      ],
      "execution_count": null,
      "outputs": [
        {
          "output_type": "stream",
          "text": [
            "313/313 [==============================] - 1s 2ms/step - loss: 0.6227 - accuracy: 0.7890\n"
          ],
          "name": "stdout"
        }
      ]
    },
    {
      "cell_type": "code",
      "metadata": {
        "id": "IJySKNV4INzf",
        "colab_type": "code",
        "colab": {}
      },
      "source": [
        "test_pred = model.predict(x_test)"
      ],
      "execution_count": null,
      "outputs": []
    },
    {
      "cell_type": "code",
      "metadata": {
        "id": "6cYfra2b49sE",
        "colab_type": "code",
        "colab": {
          "base_uri": "https://localhost:8080/",
          "height": 34
        },
        "outputId": "fe26849e-e5c4-4418-a030-184315291fa4"
      },
      "source": [
        "print(\"Test Accuracy:\",test_acc)"
      ],
      "execution_count": null,
      "outputs": [
        {
          "output_type": "stream",
          "text": [
            "Test Accuracy: 0.7889999747276306\n"
          ],
          "name": "stdout"
        }
      ]
    },
    {
      "cell_type": "code",
      "metadata": {
        "id": "W3YE1CZ-49zA",
        "colab_type": "code",
        "colab": {}
      },
      "source": [
        "out=np.argmax(test_pred,axis=-1)"
      ],
      "execution_count": null,
      "outputs": []
    },
    {
      "cell_type": "code",
      "metadata": {
        "id": "TCpbIxXF49xL",
        "colab_type": "code",
        "colab": {
          "base_uri": "https://localhost:8080/",
          "height": 191
        },
        "outputId": "a6c83028-935f-4615-abec-918b46b7ee67"
      },
      "source": [
        "confusion_matrix(y_test,out)"
      ],
      "execution_count": null,
      "outputs": [
        {
          "output_type": "execute_result",
          "data": {
            "text/plain": [
              "array([[745,   7,  25,  90,   3,   3, 105,   0,  22,   0],\n",
              "       [  3, 918,  20,  48,   3,   0,   6,   0,   2,   0],\n",
              "       [  9,   1, 785,  12,  90,   2,  85,   0,  16,   0],\n",
              "       [ 24,   9,  22, 871,  15,   1,  52,   0,   6,   0],\n",
              "       [  0,   3, 260,  65, 544,   0, 116,   0,  12,   0],\n",
              "       [  1,   0,   0,   3,   0, 809,   0, 106,  10,  71],\n",
              "       [157,   1, 171,  65,  86,   2, 480,   0,  38,   0],\n",
              "       [  0,   0,   0,   0,   0,  32,   0, 886,   0,  82],\n",
              "       [  1,   1,  19,  15,   2,   8,  15,  12, 925,   2],\n",
              "       [  0,   0,   0,   2,   0,  13,   0,  57,   1, 927]])"
            ]
          },
          "metadata": {
            "tags": []
          },
          "execution_count": 26
        }
      ]
    },
    {
      "cell_type": "code",
      "metadata": {
        "id": "1hoUrbmN49qb",
        "colab_type": "code",
        "colab": {}
      },
      "source": [
        ""
      ],
      "execution_count": null,
      "outputs": []
    },
    {
      "cell_type": "code",
      "metadata": {
        "id": "dYvSOOaP49of",
        "colab_type": "code",
        "colab": {
          "base_uri": "https://localhost:8080/",
          "height": 295
        },
        "outputId": "f0851356-27fe-4bc4-e86f-4bc29de629e3"
      },
      "source": [
        "#Using Sequential API\n",
        "\n",
        "model = get_model_seq()\n",
        "metrics='accuracy'\n",
        "model.compile(optimizer='sgd', loss='categorical_crossentropy', metrics=metrics)\n",
        "model.summary()\n",
        "model.fit(train_x, train_y_one_hot,validation_data=(val_x,val_y_one_hot),epochs=1)"
      ],
      "execution_count": null,
      "outputs": [
        {
          "output_type": "stream",
          "text": [
            "Model: \"sequential_2\"\n",
            "_________________________________________________________________\n",
            "Layer (type)                 Output Shape              Param #   \n",
            "=================================================================\n",
            "flatten_6 (Flatten)          (None, 784)               0         \n",
            "_________________________________________________________________\n",
            "dense_12 (Dense)             (None, 128)               100480    \n",
            "_________________________________________________________________\n",
            "dense_13 (Dense)             (None, 10)                1290      \n",
            "=================================================================\n",
            "Total params: 101,770\n",
            "Trainable params: 101,770\n",
            "Non-trainable params: 0\n",
            "_________________________________________________________________\n",
            "1313/1313 [==============================] - 5s 4ms/step - loss: 0.8006 - accuracy: 0.7427 - val_loss: 0.6054 - val_accuracy: 0.7977\n"
          ],
          "name": "stdout"
        },
        {
          "output_type": "execute_result",
          "data": {
            "text/plain": [
              "<tensorflow.python.keras.callbacks.History at 0x7f0893b8e828>"
            ]
          },
          "metadata": {
            "tags": []
          },
          "execution_count": 74
        }
      ]
    },
    {
      "cell_type": "code",
      "metadata": {
        "id": "74g1wQmwYvXP",
        "colab_type": "code",
        "colab": {
          "base_uri": "https://localhost:8080/",
          "height": 225
        },
        "outputId": "722f5b8f-debc-4af1-8f12-024e521b581d"
      },
      "source": [
        "test_loss, test_acc = model.evaluate(x_test,y_test_one_hot)\n",
        "test_pred = model.predict(x_test)\n",
        "print(\"Test Accuracy:\",test_acc)\n",
        "out=np.argmax(test_pred,axis=-1)\n",
        "confusion_matrix(y_test,out)"
      ],
      "execution_count": null,
      "outputs": [
        {
          "output_type": "stream",
          "text": [
            "313/313 [==============================] - 1s 3ms/step - loss: 0.6194 - accuracy: 0.7893\n",
            "Test Accuracy: 0.7893000245094299\n"
          ],
          "name": "stdout"
        },
        {
          "output_type": "execute_result",
          "data": {
            "text/plain": [
              "array([[850,  10,  13,  38,  13,   1,  56,   0,  19,   0],\n",
              "       [  8, 939,  15,  26,   9,   0,   1,   0,   2,   0],\n",
              "       [ 25,   1, 627,   7, 275,   1,  52,   0,  12,   0],\n",
              "       [ 66,  25,  14, 762,  89,   1,  39,   0,   4,   0],\n",
              "       [  1,   8,  73,  17, 869,   0,  26,   0,   6,   0],\n",
              "       [  0,   1,   0,   0,   0, 859,   0,  66,   8,  66],\n",
              "       [240,   3, 151,  22, 266,   0, 283,   0,  35,   0],\n",
              "       [  0,   0,   0,   0,   0,  55,   0, 827,   0, 118],\n",
              "       [  2,   1,  17,  10,   6,   9,  15,   9, 929,   2],\n",
              "       [  0,   0,   0,   0,   0,  14,   0,  37,   1, 948]])"
            ]
          },
          "metadata": {
            "tags": []
          },
          "execution_count": 75
        }
      ]
    },
    {
      "cell_type": "code",
      "metadata": {
        "id": "rxHT9YXnY1o1",
        "colab_type": "code",
        "colab": {}
      },
      "source": [
        ""
      ],
      "execution_count": null,
      "outputs": []
    }
  ]
}